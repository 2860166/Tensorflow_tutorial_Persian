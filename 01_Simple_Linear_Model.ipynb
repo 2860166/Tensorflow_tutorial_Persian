{
 "cells": [
  {
   "cell_type": "markdown",
   "metadata": {},
   "source": [
    "# آموزش تنسورفلو #01 \n",
    "# مدل خطی ساده\n",
    "\n",
    "نوشته شده توسط: [Magnus Erik Hvass Pedersen](http://www.hvass-labs.org/)\n",
    "/ [GitHub](https://github.com/Hvass-Labs/TensorFlow-Tutorials) / [Videos on YouTube](https://www.youtube.com/playlist?list=PL9Hr9sNUjfsmEu1ZniY0XpHSzl5uihcXZ)\n",
    "\n",
    "توضیحات فارسی: [2860166](https://github.com/2860166/Tensorflow_tutorial_Persian) "
   ]
  },
  {
   "cell_type": "markdown",
   "metadata": {},
   "source": [
    "## مقدمه\n",
    "\n",
    "در این آموزش به نحوه پیاده سازی یک مدل خطی در تنسورفلو میپردازیم. \n",
    "ابتدا مجموعه داده شامل تصاویری از اعداد دست نویس انگلیسی بارگزاری شده و سپس یک مدل ریاضی را تعریف و بهینه می‌کنیم. در نهایت نتایج بررسی خواهند شد.\n",
    "\n",
    "شما باید با مفاهیم جبرخطی، زبان پایتون و همچنین نحوه کار با jupytr notebook آشنا باشید. همچنین آشنایی نسبی با یادگیری ماشین، کمک زیادی به فهم مطلب خواهد کرد."
   ]
  },
  {
   "cell_type": "markdown",
   "metadata": {},
   "source": [
    "## بارگذاری و خواندن مجموعه داده"
   ]
  },
  {
   "cell_type": "code",
   "execution_count": 1,
   "metadata": {},
   "outputs": [],
   "source": [
    "%matplotlib inline\n",
    "import matplotlib.pyplot as plt\n",
    "import tensorflow as tf\n",
    "import numpy as np\n",
    "from sklearn.metrics import confusion_matrix"
   ]
  },
  {
   "cell_type": "markdown",
   "metadata": {},
   "source": [
    "این کد بوسیله پایتون نسخه (3.6) و توزیع آناکوندا توسعه یافته است."
   ]
  },
  {
   "cell_type": "code",
   "execution_count": 2,
   "metadata": {},
   "outputs": [
    {
     "data": {
      "text/plain": [
       "'1.12.0'"
      ]
     },
     "execution_count": 2,
     "metadata": {},
     "output_type": "execute_result"
    }
   ],
   "source": [
    "tf.__version__"
   ]
  },
  {
   "cell_type": "markdown",
   "metadata": {},
   "source": [
    "## بارگذاری مجموعه داده"
   ]
  },
  {
   "cell_type": "markdown",
   "metadata": {},
   "source": [
    "MNIST شامل تصاویر اعداد دستنویس انگلیسی است و در مجموع 12 مگابایت حجم دارد. اگر داده ها در مسیر مشخص شده وجود نداشته باشند، به صورت اتوماتیک دانلود خواهند شد."
   ]
  },
  {
   "cell_type": "code",
   "execution_count": 3,
   "metadata": {},
   "outputs": [],
   "source": [
    "from mnist import MNIST\n",
    "data = MNIST(data_dir=\"data/MNIST/\")"
   ]
  },
  {
   "cell_type": "markdown",
   "metadata": {},
   "source": [
    "مجموعه داده شامل 70000 تصویر عدد است. دیتاست شامل سه قسمت داده‌های آموزش، داده ارزیابی و داده تست است. ما فقط از دو مجموعه آموزش و تست استفاده خواهیم کرد."
   ]
  },
  {
   "cell_type": "code",
   "execution_count": 4,
   "metadata": {},
   "outputs": [
    {
     "name": "stdout",
     "output_type": "stream",
     "text": [
      "Size of:\n",
      "- Training-set:\t\t55000\n",
      "- Validation-set:\t5000\n",
      "- Test-set:\t\t10000\n"
     ]
    }
   ],
   "source": [
    "print(\"Size of:\")\n",
    "print(\"- Training-set:\\t\\t{}\".format(data.num_train))\n",
    "print(\"- Validation-set:\\t{}\".format(data.num_val))\n",
    "print(\"- Test-set:\\t\\t{}\".format(data.num_test))"
   ]
  },
  {
   "cell_type": "markdown",
   "metadata": {},
   "source": [
    "برخی ویژگی‌های مجموعه داده"
   ]
  },
  {
   "cell_type": "code",
   "execution_count": 5,
   "metadata": {},
   "outputs": [],
   "source": [
    "# هر تصویر در یک ارایه یک بعدی با سایز زیر ذخیره می‌شود\n",
    "img_size_flat = data.img_size_flat\n",
    "\n",
    "# یک تاپل شامل طول و عرض تصویر برای بدست آوردن آرایه دوبعدی و تصویر واقعی\n",
    "img_shape = data.img_shape\n",
    "\n",
    "# تعداد کلاس ها، هر کلاس متناظر با یک عدد\n",
    "num_classes = data.num_classes"
   ]
  },
  {
   "cell_type": "markdown",
   "metadata": {},
   "source": [
    "### کدبندی One-Hot "
   ]
  },
  {
   "cell_type": "markdown",
   "metadata": {},
   "source": [
    "برچسب یا همان کلاس متناظر هر تصویر به دوصورت موجود است. اول به صورت اعداد متناظر با هر کلاس. در این روش، هر برچسب یک عدد است . روش دوم، کدبندی one-hot است که در آن هر برچسب به صورت یک بردار از اعداد صفرو یک و به طول تعداد کلاسهاست. فقط درایه متناظر با شماره کلاس یک و بقیه درایه ها صفرند.\n",
    "به عنوان مثال می‌توان کدبندی one-hot مربوط به پنج تصویر اول را مشاهده کرد:"
   ]
  },
  {
   "cell_type": "code",
   "execution_count": 6,
   "metadata": {},
   "outputs": [
    {
     "data": {
      "text/plain": [
       "array([[0., 0., 0., 0., 0., 0., 0., 1., 0., 0.],\n",
       "       [0., 0., 1., 0., 0., 0., 0., 0., 0., 0.],\n",
       "       [0., 1., 0., 0., 0., 0., 0., 0., 0., 0.],\n",
       "       [1., 0., 0., 0., 0., 0., 0., 0., 0., 0.],\n",
       "       [0., 0., 0., 0., 1., 0., 0., 0., 0., 0.]])"
      ]
     },
     "execution_count": 6,
     "metadata": {},
     "output_type": "execute_result"
    }
   ],
   "source": [
    "data.y_test[0:5, :]"
   ]
  },
  {
   "cell_type": "markdown",
   "metadata": {},
   "source": [
    "همچنین نوع اول برچسب ها هم موجود و آماده است و در آرایه y_test_cls ذخیره شده اند. مثلا لیبل متناظر با پنج تصویر اول در این روش به صورت زیر هستند:"
   ]
  },
  {
   "cell_type": "code",
   "execution_count": 7,
   "metadata": {},
   "outputs": [
    {
     "data": {
      "text/plain": [
       "array([7, 2, 1, 0, 4])"
      ]
     },
     "execution_count": 7,
     "metadata": {},
     "output_type": "execute_result"
    }
   ],
   "source": [
    "data.y_test_cls[0:5]"
   ]
  },
  {
   "cell_type": "markdown",
   "metadata": {},
   "source": [
    "### تابع نمایش تصاویر"
   ]
  },
  {
   "cell_type": "markdown",
   "metadata": {},
   "source": [
    "تابع زیر برای نمایش 9 تصویر به صورت 3x3 است. همچنین برچسب اصلی و برچسب پیش بینی شده را زیر هر تصویر چاپ می‌کند."
   ]
  },
  {
   "cell_type": "code",
   "execution_count": 8,
   "metadata": {},
   "outputs": [],
   "source": [
    "def plot_images(images, cls_true, cls_pred=None):\n",
    "    assert len(images) == len(cls_true) == 9\n",
    "    \n",
    "    # ایجاد یک figure 3x3\n",
    "    fig, axes = plt.subplots(3, 3)\n",
    "    fig.subplots_adjust(hspace=0.3, wspace=0.3)\n",
    "\n",
    "    for i, ax in enumerate(axes.flat):\n",
    "        # نمایش تصویر\n",
    "        ax.imshow(images[i].reshape(img_shape), cmap='binary')\n",
    "\n",
    "        # نمایش برچسب های اصلی و پیش بینی شده\n",
    "        if cls_pred is None:\n",
    "            xlabel = \"True: {0}\".format(cls_true[i])\n",
    "        else:\n",
    "            xlabel = \"True: {0}, Pred: {1}\".format(cls_true[i], cls_pred[i])\n",
    "\n",
    "        ax.set_xlabel(xlabel)\n",
    "        \n",
    "        # حدف تیک ها از روی محورها\n",
    "        ax.set_xticks([])\n",
    "        ax.set_yticks([])\n",
    "        \n",
    "    plt.show()"
   ]
  },
  {
   "cell_type": "markdown",
   "metadata": {},
   "source": [
    "### نمایش چند تصویر نمونه بوسیله تابع فوق"
   ]
  },
  {
   "cell_type": "code",
   "execution_count": 9,
   "metadata": {},
   "outputs": [
    {
     "data": {
      "image/png": "[encoded data removed]",
      "text/plain": [
       "<Figure size 432x288 with 9 Axes>"
      ]
     },
     "metadata": {},
     "output_type": "display_data"
    }
   ],
   "source": [
    "# گرفتن اولین نه تصویر از دیتاست\n",
    "images = data.x_test[0:9]\n",
    "\n",
    "# گرفتن برچسب‌های اصلی آن تصاویر\n",
    "cls_true = data.y_test_cls[0:9]\n",
    "\n",
    "# نمایش تصاویر با تابع فوق\n",
    "plot_images(images=images, cls_true=cls_true)"
   ]
  },
  {
   "cell_type": "markdown",
   "metadata": {},
   "source": [
    "## گراف تنسورفلو\n",
    "\n",
    "هدف تنسورفلو، ایجاد یک گراف محاسباتی است که به صورت کاراتر از پایتون معمولی اجرا شود. تنسورفلو از numpy سریعتر است زیرا دید کلی دارد و گراف محاسبات کلی را درنظر می‌گیرد؛ در حالی که numpy تنها یک عملگر محاسباتی در یک زمان را می‌شناسد.\n",
    "\n",
    "یکی دیگر از قابلیت‌های تنسورفلو، توانایی محاسبه گرادیان‌های مورد نیاز برای بهینه‌سازی متغییرها گراف است که موجب عملکرد بهتر مدل است. از آنجا که گراف ترکیبی از عبارتهای ریاضی ساده است، گرادیان کل گراف با استفاده از قانون مشتق زنجیره‌ای، قابل محاسبه است.\n",
    "\n",
    "همچنین تنسورفلو می‌تواند از پردازنده‌های چندهسته ای و همچنین پردازنده‌های گرافیکی استفاده کند. اخیرا گوگل نیز تراشه‌ای مخصوص اجرای تنسورفلو معرفی کرده است که TPU نام دارد و سریعتر از GPU عمل می‌کند.\n",
    "\n",
    "گراف تنسورفلو شامل اجزای زیر است:\n",
    "* متغیر Placeholder که برای دادن ورودی به گراف استفاده می‌شود.\n",
    "* متغیر Model که قرار است بهینه‌سازی شود تا مدل بهتر عمل کند. \n",
    "* مدلی که الزاما یک رابطه ریاضی بین ورودی‌های موجود در placeholder و متغیرهای Model است.\n",
    "* یک تابع هزینه که برای بهینه‌سازی تعریف می‌شود.\n",
    "* یک متد بهینه‌سازی برای به‌روزرسانی متغییرهای مدل.\n",
    "\n",
    "همچنین گراف تنسورفلو می‌تواند شامل عبارت‌هایی دیگر به‌منطور نمایش گزارشات اجرا توسط TensorBoard باشد که در این آموزش به آن نمیپردازیم."
   ]
  },
  {
   "cell_type": "markdown",
   "metadata": {},
   "source": [
    "### متغیر Placeholder"
   ]
  },
  {
   "cell_type": "markdown",
   "metadata": {},
   "source": [
    "متغیر Placeholder مانند ورودی گراف عمل می‌کند که می‌توانیم در هر اجرا آن‌ها را تغییر دهیم.\n",
    "\n",
    "در این آموزش باید متغییری تعریف کنیم تا تصویری را به‌عنوان ورودی دریافت کند. این عمل به ما امکان می‌دهد که ورودی‌ها را عوض کرده و تصاویر مختلفی را به گراف بدهیم. همچنین به این ورودی‌ها یک تنسور گفته می‌شود که همان آرایه یا بردار چندبعدی است. data-type از نوع `float32` تعریف شده و اندازه آن `[None, img_size_flat]` قرار داده شده است که در آن `None` به این معنی است که تنسور می‌تواند شامل هر تعدادی از تصاویر باشد که هرکدام برداری با اندازه `img_size_flat` باشند.\n"
   ]
  },
  {
   "cell_type": "code",
   "execution_count": 10,
   "metadata": {},
   "outputs": [],
   "source": [
    "x = tf.placeholder(tf.float32, [None, img_size_flat])"
   ]
  },
  {
   "cell_type": "markdown",
   "metadata": {},
   "source": [
    "در قدم بعدی باید برچسب‌های متناظر با تصاویر را نیز به‌عنوان ورودی به گراف معرفی کنیم. بنابر این متغییر `x` را به شکل `[None, num_classes]` تعریف میکنیم. یعنی هر تعداد ورودی با اندازه `num_classes` می‌توانیم داشته باشیم که در این مساله برابر 10 است. "
   ]
  },
  {
   "cell_type": "code",
   "execution_count": 11,
   "metadata": {},
   "outputs": [],
   "source": [
    "y_true = tf.placeholder(tf.float32, [None, num_classes])"
   ]
  },
  {
   "cell_type": "markdown",
   "metadata": {},
   "source": [
    "درنهایت باید متغییری برای برچسب‌های مطلوب مساله نیز ایجاد کنیم که مانند متغیر قبلی است."
   ]
  },
  {
   "cell_type": "code",
   "execution_count": 12,
   "metadata": {},
   "outputs": [],
   "source": [
    "y_true_cls = tf.placeholder(tf.int64, [None])"
   ]
  },
  {
   "cell_type": "markdown",
   "metadata": {},
   "source": [
    "### متغییرهایی که باید بهینه شوند."
   ]
  },
  {
   "cell_type": "markdown",
   "metadata": {},
   "source": [
    "پس از تعریف متغیرهای ورودی از نوع Placeholder، باید متغییرهای مدل را نیز تعریف کنیم. متغییرهای مدب متغییرهای هستن که باید مقدار بهینه آن‌ها در طول بهینه‌سازی یافته شود تا مدل بهترین عملکرد را داشته باشد.\n",
    "\n",
    "اولین متغیری که باید بهینه شود، متغیر وزن‌هاست. متغیر وزن‌ها را به‌گونه‌ای تعریف می‌کنیم که با صفر مقداردهی اولیه شده و اندازه‌ای برابر  با `[img_size_flat, num_classes]` داشته باشد. بنابر این یک ماتریس دوبعدی با `img_size_flat` ردیف و `num_classes` ستون خواهیم داشت. \n"
   ]
  },
  {
   "cell_type": "code",
   "execution_count": 13,
   "metadata": {},
   "outputs": [],
   "source": [
    "weights = tf.Variable(tf.zeros([img_size_flat, num_classes]))"
   ]
  },
  {
   "cell_type": "markdown",
   "metadata": {},
   "source": [
    "متغیر دوم بایاس‌های مدل یا همان عرض از مبدا مدل خطی است که به‌صورت یک آرایه نک بعدی با اندازه‌ی `num_classes` است که با صفر مقداردهی اولیه می‌شود.\n"
   ]
  },
  {
   "cell_type": "code",
   "execution_count": 14,
   "metadata": {},
   "outputs": [],
   "source": [
    "biases = tf.Variable(tf.zeros([num_classes]))"
   ]
  },
  {
   "cell_type": "markdown",
   "metadata": {},
   "source": [
    "### مدل"
   ]
  },
  {
   "cell_type": "markdown",
   "metadata": {},
   "source": [
    "می‌خولهیم یک مدل ساده خطی ایجاد کنیم که تصاویر ورودی را در وزن‌ها ضرب و با بایاس جمع کند.\n",
    "از آنجا که اندازه ماتریس تصاویر `[num_images, img_size_flat]` و اندازه ماتریس وزن‌ها `[img_size_flat, num_classes]` است، اندازه ماتریس حاصلضرب دارای اندازه‌ی `[num_images, num_classes]` است و بردار بایاس با سطرهای آن جمع خواهد شد.\n"
   ]
  },
  {
   "cell_type": "code",
   "execution_count": 15,
   "metadata": {},
   "outputs": [],
   "source": [
    "logits = tf.matmul(x, weights) + biases"
   ]
  },
  {
   "cell_type": "markdown",
   "metadata": {},
   "source": [
    "بنابراین متغییر `logits` ماتریسی با `num_images` سطر و `num_classes` ستون است که هر عنصر ردیف $i$ام و ستون $j$ام آن متناظر با تخمین آن است که تصویر $i$ام از نوع کلاس $j$ام باشد.\n",
    "\n",
    "همچنین دقت کنید که برای مقایسه‌پذیری و تفسیر بهتر، مقادیر فوق را با تابع softmax به احتمال تبدیل می‌کنیم. درنتیجه مجموع هر ردیف ماتریس برابر با یک و همه عناصر مقادیری بین صفر و یک خواهند داشت. خروجی را در متغییر `y_pred` ذخیره می‌کنیم.\n"
   ]
  },
  {
   "cell_type": "code",
   "execution_count": 16,
   "metadata": {},
   "outputs": [],
   "source": [
    "y_pred = tf.nn.softmax(logits)"
   ]
  },
  {
   "cell_type": "markdown",
   "metadata": {},
   "source": [
    "کلاس پیش‌بینی شده‌ی هر تصویر با ماکزیمم گرفتن از مقادیر سطر متناظر به دست می‌آید.\n"
   ]
  },
  {
   "cell_type": "code",
   "execution_count": 17,
   "metadata": {},
   "outputs": [],
   "source": [
    "y_pred_cls = tf.argmax(y_pred, axis=1)"
   ]
  },
  {
   "cell_type": "markdown",
   "metadata": {},
   "source": [
    "### تابع هدف (هزینه) بهینه‌سازی"
   ]
  },
  {
   "cell_type": "markdown",
   "metadata": {},
   "source": [
    "برای اینکه مدل بهترین طبقه‌بندی و تشخیص را انجام دهد، باید بهترین وزن و بایاس را به‌دست آوریم. اولین قدم برای سنجش میزان خوب بودن وزن‌ها و بایاس‌ها، مقایسه‌ی برچسب مطلوب `y_true`و برچسب پیش‌بینی شده یعنی `y_pred` است.\n",
    "\n",
    "یکی از پراستفاده‌ترین معیارهای طبقه‌بندی، cross-entropy است. cross-entropy یک تابع پیوسته و مثبت است و درصورتی که پیش‌بینی برابر با برچسب مطلوب باشد، مقدار صفر می‌گیرد. درنتیجه هدف بهینه‌سازی، کمینه‌سازی cross-entropy خواهد بود به‌طوری که بیشترین مقدار انطباق بین برچسب‌های پیش‌بینی شده و برچسب‌های مطلوب ایجاد شود (و در نتیجه مقدار کمتر در cross-entropy بدست آید).\n",
    "درحقیقت به دنبال وزن‌ها و بایاس‌هایی هستیم که خصوصیت بالا را نتیجه دهند.\n",
    "تنسورفلو تابع فوق را پیاده‌سازی کرده هست. لازم به‌ذکر است که ماتریس logits را مستقیما به این تابع می‌دهیم زیرا به‌صورت اتوماتیک softmax را نیز حساب می‌کند."
   ]
  },
  {
   "cell_type": "code",
   "execution_count": 18,
   "metadata": {},
   "outputs": [],
   "source": [
    "cross_entropy = tf.nn.softmax_cross_entropy_with_logits_v2(logits=logits,\n",
    "                                                           labels=y_true)"
   ]
  },
  {
   "cell_type": "markdown",
   "metadata": {},
   "source": [
    "تا به اینجا مقدار cross-entropy را برای هر تصویر محاسبه کرده‌ایم. اما باید یک معیار عمومی و کلی تعریف کنیم که کل مدل را ارزیابی کند و نه تک تک عکس‌ها را. به سادگی میانگین cross-entropy را حساب کرده و یک عدد اسکالر را به‌عنوان هزینه کلی مدل درنظر می‌گیریم. \n"
   ]
  },
  {
   "cell_type": "code",
   "execution_count": 19,
   "metadata": {},
   "outputs": [],
   "source": [
    "cost = tf.reduce_mean(cross_entropy)"
   ]
  },
  {
   "cell_type": "markdown",
   "metadata": {},
   "source": [
    "### متد بهینه‌سازی"
   ]
  },
  {
   "cell_type": "markdown",
   "metadata": {},
   "source": [
    "حالا که یک تابع هزینه از مدل داریم، می‌توانیم یک بهینه‌ساز (optimizer) تعریف کنیم. در این مثال از کاهش گرادیان ساده با نرخ 0.5 استفاده می‌کنیم.\n",
    "توجه داشته باشید که در این مرحله و با نوشتن کد زیر هی چیزی اجرا و بهینه نمی‌شود. درواقع ما فقط یک بهینه‌ساز اضافه و تعریف کرده‌ایم."
   ]
  },
  {
   "cell_type": "code",
   "execution_count": 20,
   "metadata": {},
   "outputs": [],
   "source": [
    "optimizer = tf.train.GradientDescentOptimizer(learning_rate=0.5).minimize(cost)"
   ]
  },
  {
   "cell_type": "markdown",
   "metadata": {},
   "source": [
    "### معیار ارزیابی"
   ]
  },
  {
   "cell_type": "markdown",
   "metadata": {},
   "source": [
    "معیارهای ارزیابی دیگری نیاز داریم تا پیشرفت یادگیری مدل را به کاربر نشان دهیم.\n",
    "ابتدا یک بردار از عناصر باینری تعریف می‌کنیم تا بدانیم کدام تصویر درست یا اشتباه پیش‌بینی شده است."
   ]
  },
  {
   "cell_type": "code",
   "execution_count": 21,
   "metadata": {},
   "outputs": [],
   "source": [
    "correct_prediction = tf.equal(y_pred_cls, y_true_cls)"
   ]
  },
  {
   "cell_type": "markdown",
   "metadata": {},
   "source": [
    "کد زیر دقت طبقه‌بندی را محاسبه می‌کند. ابتدا بردار فوق را به float تبدیل کرده و سپس میانگین آن ارایه محاسبه می‌شود."
   ]
  },
  {
   "cell_type": "code",
   "execution_count": 22,
   "metadata": {},
   "outputs": [],
   "source": [
    "accuracy = tf.reduce_mean(tf.cast(correct_prediction, tf.float32))"
   ]
  },
  {
   "cell_type": "markdown",
   "metadata": {},
   "source": [
    "## اجرای تنسورفلو"
   ]
  },
  {
   "cell_type": "markdown",
   "metadata": {},
   "source": [
    "### ایجاد یک session\n",
    "\n",
    "با داشتن گراف تنسورفلو، یک session تعریف می‌کنیم تا درمرحله بعد آن را اجرا کنیم."
   ]
  },
  {
   "cell_type": "code",
   "execution_count": 23,
   "metadata": {},
   "outputs": [],
   "source": [
    "session = tf.Session()"
   ]
  },
  {
   "cell_type": "markdown",
   "metadata": {},
   "source": [
    "### مقداردهی اولیه متغیرها\n",
    "\n",
    "متغیرهای `weights` و `biases` را قبل از شروع بهینه‌سازی مقداردهی اولیه می‌کنیم."
   ]
  },
  {
   "cell_type": "code",
   "execution_count": 24,
   "metadata": {},
   "outputs": [],
   "source": [
    "session.run(tf.global_variables_initializer())"
   ]
  },
  {
   "cell_type": "markdown",
   "metadata": {},
   "source": [
    "### توابع کمکی (Helper-function) برای پیاده‌سازی تکرار در بهینه‌سازی"
   ]
  },
  {
   "cell_type": "markdown",
   "metadata": {},
   "source": [
    "مجموعه داده آموزشی شامل 55000 تصویر است که مقدار زیادی است و مقدار زمان زیادی طول می‌کشد که گرادیان همه آن‌ها محاسبه شود. بنابراین از روش کاهش گرادیان تصادفی (SGD) استفاده می‌کنیم که در هر تکرار از دسته کوچکی از تصاویر استفاده می‌کند."
   ]
  },
  {
   "cell_type": "code",
   "execution_count": 25,
   "metadata": {},
   "outputs": [],
   "source": [
    "batch_size = 100"
   ]
  },
  {
   "cell_type": "markdown",
   "metadata": {},
   "source": [
    "حالا تابعی می‌نویسیم تا تعداد مشخصی بهینه‌سازی را تکرار کند تا مقادیر وزن و بایاس در وطول تکرارها بهینه شده و بهبود یابند. در هر تکرار، دسته‌ی جدیدی از داده‌ها از میان داده‌های آموزشی انتخاب شده تا تسور فلو بهینه‌ساز را روی آن‌ها اجرا کند."
   ]
  },
  {
   "cell_type": "code",
   "execution_count": 26,
   "metadata": {},
   "outputs": [],
   "source": [
    "def optimize(num_iterations):\n",
    "    for i in range(num_iterations):\n",
    "        # دسته ای از نمونه‌های آموزشی انتخاب کن\n",
    "        # x_batch شامل دسته‌ای از تصاویر \n",
    "        # y_true_batch دسته برچسبهای مطلوب متناظر با تصاویر فوق\n",
    "        x_batch, y_true_batch, _ = data.random_batch(batch_size=batch_size)\n",
    "        \n",
    "        # دسته داده را در یک دیکشنری قرار بده\n",
    "        feed_dict_train = {x: x_batch,\n",
    "                           y_true: y_true_batch}\n",
    "\n",
    "        # بهینه ساز را با دسته انتخاب شده اجرا کن.\n",
    "        session.run(optimizer, feed_dict=feed_dict_train)"
   ]
  },
  {
   "cell_type": "markdown",
   "metadata": {},
   "source": [
    "### توابع کمکی (Helper-function) برای نمایش کارایی"
   ]
  },
  {
   "cell_type": "markdown",
   "metadata": {},
   "source": [
    "برای محاسبه کارایی مدل (پس از مرحله آموزش و بهینه‌سازی) از داده‌های تست استفاده می‌کنیم. دقت کنید نام placeholder هایی که قبلا تعریف کرده‌ایم درست نوشته شوند."
   ]
  },
  {
   "cell_type": "code",
   "execution_count": 27,
   "metadata": {},
   "outputs": [],
   "source": [
    "feed_dict_test = {x: data.x_test,\n",
    "                  y_true: data.y_test,\n",
    "                  y_true_cls: data.y_test_cls}"
   ]
  },
  {
   "cell_type": "markdown",
   "metadata": {},
   "source": [
    "تابعی برای نمایش دقت مدل روی داده‌های تست"
   ]
  },
  {
   "cell_type": "code",
   "execution_count": 28,
   "metadata": {},
   "outputs": [],
   "source": [
    "def print_accuracy():\n",
    "    # استفاده از تنسورفلو برای محاسبه دقت\n",
    "    acc = session.run(accuracy, feed_dict=feed_dict_test)\n",
    "    \n",
    "    # پرینت دقت\n",
    "    print(\"Accuracy on test-set: {0:.1%}\".format(acc))"
   ]
  },
  {
   "cell_type": "markdown",
   "metadata": {},
   "source": [
    "تابعی برای محاسبه و نمایش ماتریس درهم ریختگی (confusion matrix) با استفاده از پکیج scikit-learn"
   ]
  },
  {
   "cell_type": "code",
   "execution_count": 29,
   "metadata": {},
   "outputs": [],
   "source": [
    "def print_confusion_matrix():\n",
    "    # برچسب‌های مطلوب داده تست\n",
    "    cls_true = data.y_test_cls\n",
    "    \n",
    "    # خروجی و پیش‌بینی مدل برای داده تست\n",
    "    cls_pred = session.run(y_pred_cls, feed_dict=feed_dict_test)\n",
    "\n",
    "    # بدست آوردن ماتریس درهم ریختگی\n",
    "    cm = confusion_matrix(y_true=cls_true,\n",
    "                          y_pred=cls_pred)\n",
    "\n",
    "    # پرینت ماتریس درهم ریختگی به صورت متنی\n",
    "    print(cm)\n",
    "\n",
    "    # نمایش ماتریس درهم ریختگی به صورت تصویر\n",
    "    plt.imshow(cm, interpolation='nearest', cmap=plt.cm.Blues)\n",
    "\n",
    "    plt.tight_layout()\n",
    "    plt.colorbar()\n",
    "    tick_marks = np.arange(num_classes)\n",
    "    plt.xticks(tick_marks, range(num_classes))\n",
    "    plt.yticks(tick_marks, range(num_classes))\n",
    "    plt.xlabel('Predicted')\n",
    "    plt.ylabel('True')\n",
    "    \n",
    "    # نمایش تصویر\n",
    "    plt.show()"
   ]
  },
  {
   "cell_type": "markdown",
   "metadata": {},
   "source": [
    "تابعی برای نمایش برخی ازتصاویر تست که به اشتباه طبقه‌بندی شده‌اند."
   ]
  },
  {
   "cell_type": "code",
   "execution_count": 30,
   "metadata": {},
   "outputs": [],
   "source": [
    "def plot_example_errors():\n",
    "    # استفاده از تنسورفلو برای بدست آوردن برداری که نشان دهد تصاویر درست یا اشتباه دسته بندی شده اند.\n",
    "    correct, cls_pred = session.run([correct_prediction, y_pred_cls],\n",
    "                                    feed_dict=feed_dict_test)\n",
    "\n",
    "    incorrect = (correct == False)\n",
    "    \n",
    "    # بازیابی تصاویر تست که به اشتباه دسته بندی شده اند.\n",
    "    images = data.x_test[incorrect]\n",
    "    \n",
    "    # بدست آوردن کلاس پیش بینی شده برای آن تصاویر\n",
    "    cls_pred = cls_pred[incorrect]\n",
    "\n",
    "    # بدست آوردن برچسب مطلوب آن تصاویر\n",
    "    cls_true = data.y_test_cls[incorrect]\n",
    "    \n",
    "    # نمایش 9 تصویر اول مجموعه\n",
    "    plot_images(images=images[0:9],\n",
    "                cls_true=cls_true[0:9],\n",
    "                cls_pred=cls_pred[0:9])"
   ]
  },
  {
   "cell_type": "markdown",
   "metadata": {},
   "source": [
    "### تابع کمکی برای نمایش وزن ها"
   ]
  },
  {
   "cell_type": "markdown",
   "metadata": {},
   "source": [
    "10 تصویر نمایش داده می‌شود که هرکدام متناظر با یکی از 10 کلاس داده است."
   ]
  },
  {
   "cell_type": "code",
   "execution_count": 31,
   "metadata": {},
   "outputs": [],
   "source": [
    "def plot_weights():\n",
    "    # بدست آوردن وزن ها از متغیرهای تنسورفلو\n",
    "    w = session.run(weights)\n",
    "    \n",
    "    # بدست آوردن بیشترین و کمترین مقدار وزن برای تنظیم رنگ در نمایش وزن ها\n",
    "    w_min = np.min(w)\n",
    "    w_max = np.max(w)\n",
    "\n",
    "    fig, axes = plt.subplots(3, 4)\n",
    "    fig.subplots_adjust(hspace=0.3, wspace=0.3)\n",
    "\n",
    "    for i, ax in enumerate(axes.flat):\n",
    "        \n",
    "        if i<10:\n",
    "            # بدست آوردن وزن های مربوط به یک کلاس\n",
    "            image = w[:, i].reshape(img_shape)\n",
    "\n",
    "            # تنظیم لیبلی که در زیر تصویر نوشته خواهد شد\n",
    "            ax.set_xlabel(\"Weights: {0}\".format(i))\n",
    "\n",
    "            # نمایش تصویر\n",
    "            ax.imshow(image, vmin=w_min, vmax=w_max, cmap='seismic')\n",
    "\n",
    "        ax.set_xticks([])\n",
    "        ax.set_yticks([])\n",
    "        \n",
    "    plt.show()"
   ]
  },
  {
   "cell_type": "markdown",
   "metadata": {},
   "source": [
    "## مقدار کارایی قبل از بهینه سازی\n",
    "\n",
    "دقت روی داده‌های تست نزدیک به 10% است زیرا هنوز بهینه‌سازی اجرا نشده و این مقدار با استفاده از مقدارهی های اولیه متغیرها به‌دست آمده است."
   ]
  },
  {
   "cell_type": "code",
   "execution_count": 32,
   "metadata": {},
   "outputs": [
    {
     "name": "stdout",
     "output_type": "stream",
     "text": [
      "Accuracy on test-set: 9.8%\n"
     ]
    }
   ],
   "source": [
    "print_accuracy()"
   ]
  },
  {
   "cell_type": "code",
   "execution_count": 33,
   "metadata": {},
   "outputs": [
    {
     "data": {
      "image/png": "[encoded data removed]",
      "text/plain": [
       "<Figure size 432x288 with 9 Axes>"
      ]
     },
     "metadata": {},
     "output_type": "display_data"
    }
   ],
   "source": [
    "plot_example_errors()"
   ]
  },
  {
   "cell_type": "markdown",
   "metadata": {},
   "source": [
    "## کارایی بعد از یک تکرار\n",
    "\n",
    "پس از یک تکرار بهینه‌سازی، دقت مدل افزایش می‌یابد."
   ]
  },
  {
   "cell_type": "code",
   "execution_count": 34,
   "metadata": {},
   "outputs": [],
   "source": [
    "optimize(num_iterations=1)"
   ]
  },
  {
   "cell_type": "code",
   "execution_count": 35,
   "metadata": {},
   "outputs": [
    {
     "name": "stdout",
     "output_type": "stream",
     "text": [
      "Accuracy on test-set: 24.8%\n"
     ]
    }
   ],
   "source": [
    "print_accuracy()"
   ]
  },
  {
   "cell_type": "code",
   "execution_count": 36,
   "metadata": {},
   "outputs": [
    {
     "data": {
      "image/png": "[encoded data removed]",
      "text/plain": [
       "<Figure size 432x288 with 9 Axes>"
      ]
     },
     "metadata": {},
     "output_type": "display_data"
    }
   ],
   "source": [
    "plot_example_errors()"
   ]
  },
  {
   "cell_type": "markdown",
   "metadata": {},
   "source": [
    "همچنین می‌توان وزن‌ها را با تابع کمکی که قبلا نوشه‌ایم، نمایش دهیم. در این‌صورت وزن‌های مثبت با قرمز و وزن‌های منفی با رنگ آبی دیده می‌شوند. این وزن‌ها را می‌توان مانند فیلتری تصور کرد که بر تصاویر اعمال می‌شوند. \n",
    "به‌عنوان مثال وزن‌های که برای تشخیص عدد صفر به‌کار می‌روند، واکنش مثبتی به اشکال دایره‌ای دارند و واکنش منفی (آبی) به تصاویری دارای مرکز دایره‌ای خواهند داشت.\n",
    "به‌طور مشابه وزن‌های استفاده شده برای تشخیص عدد 1، نسبت به خط عمودی واکنش مثبت دارند و نسبت به آنچه آن خط را احاطه می‌کند واکنش منفی دارد.\n",
    "\n",
    "انتظار داریم تصویر وزن‌ها مشابه تصویر اعداد شوند تا پیش‌بینی و دسته‌بندی درست انجام شود.\n"
   ]
  },
  {
   "cell_type": "code",
   "execution_count": 37,
   "metadata": {},
   "outputs": [
    {
     "data": {
      "image/png": "[encoded data removed]",
      "text/plain": [
       "<Figure size 432x288 with 12 Axes>"
      ]
     },
     "metadata": {},
     "output_type": "display_data"
    }
   ],
   "source": [
    "plot_weights()"
   ]
  },
  {
   "cell_type": "markdown",
   "metadata": {},
   "source": [
    "## Performance after 10 optimization iterations"
   ]
  },
  {
   "cell_type": "code",
   "execution_count": 38,
   "metadata": {},
   "outputs": [],
   "source": [
    "# We have already performed 1 iteration.\n",
    "optimize(num_iterations=9)"
   ]
  },
  {
   "cell_type": "code",
   "execution_count": 39,
   "metadata": {},
   "outputs": [
    {
     "name": "stdout",
     "output_type": "stream",
     "text": [
      "Accuracy on test-set: 80.7%\n"
     ]
    }
   ],
   "source": [
    "print_accuracy()"
   ]
  },
  {
   "cell_type": "code",
   "execution_count": 40,
   "metadata": {},
   "outputs": [
    {
     "data": {
      "image/png": "[encoded data removed]",
      "text/plain": [
       "<Figure size 432x288 with 9 Axes>"
      ]
     },
     "metadata": {},
     "output_type": "display_data"
    }
   ],
   "source": [
    "plot_example_errors()"
   ]
  },
  {
   "cell_type": "code",
   "execution_count": 41,
   "metadata": {},
   "outputs": [
    {
     "data": {
      "image/png": "[encoded data removed]",
      "text/plain": [
       "<Figure size 432x288 with 12 Axes>"
      ]
     },
     "metadata": {},
     "output_type": "display_data"
    }
   ],
   "source": [
    "plot_weights()"
   ]
  },
  {
   "cell_type": "markdown",
   "metadata": {},
   "source": [
    "## کارایی پس از 1000 تکرار\n"
   ]
  },
  {
   "cell_type": "code",
   "execution_count": 42,
   "metadata": {},
   "outputs": [],
   "source": [
    "#10 تکرار قبلا انجام شده\n",
    "optimize(num_iterations=990)"
   ]
  },
  {
   "cell_type": "code",
   "execution_count": 43,
   "metadata": {},
   "outputs": [
    {
     "name": "stdout",
     "output_type": "stream",
     "text": [
      "Accuracy on test-set: 91.5%\n"
     ]
    }
   ],
   "source": [
    "print_accuracy()"
   ]
  },
  {
   "cell_type": "code",
   "execution_count": 44,
   "metadata": {},
   "outputs": [
    {
     "data": {
      "image/png": "[encoded data removed]",
      "text/plain": [
       "<Figure size 432x288 with 9 Axes>"
      ]
     },
     "metadata": {},
     "output_type": "display_data"
    }
   ],
   "source": [
    "plot_example_errors()"
   ]
  },
  {
   "cell_type": "markdown",
   "metadata": {},
   "source": [
    "حالا مدل در 1000 تکرار بهینه شده و آموزش یافته است که در هر تکرار از 100 تصویر برای بهینه‌سازی استفاده شده است. تصاویر وزن‌ها نشان می‌دهد که کمی پیچیده شده اند و به درستی عدد موردنظر را نشان نمی‌دهند. این امر نشان می‌دهد که بیش‌برازش اتفاق افتاده و مدل شروع به حفظ کردن الگوها کرده است و نه یافتن الگویی منظم برای تشخیص آن‌ها.\n"
   ]
  },
  {
   "cell_type": "code",
   "execution_count": 45,
   "metadata": {},
   "outputs": [
    {
     "data": {
      "image/png": "[encoded data removed]",
      "text/plain": [
       "<Figure size 432x288 with 12 Axes>"
      ]
     },
     "metadata": {},
     "output_type": "display_data"
    }
   ],
   "source": [
    "plot_weights()"
   ]
  },
  {
   "cell_type": "markdown",
   "metadata": {},
   "source": [
    "حالا می‌توان ماتریس درهم ریختگی را نمایش داد."
   ]
  },
  {
   "cell_type": "code",
   "execution_count": 46,
   "metadata": {},
   "outputs": [
    {
     "name": "stdout",
     "output_type": "stream",
     "text": [
      "[[ 959    0    2    2    0    4   11    1    1    0]\n",
      " [   0 1120    2    2    0    2    4    2    3    0]\n",
      " [   6   10  948   12    9    3   13   10   17    4]\n",
      " [   3    1   30  926    0   26    3    8    7    6]\n",
      " [   1    5   10    1  909    1   15    3    5   32]\n",
      " [  10    4    5   44    5  772   24    6   16    6]\n",
      " [   9    3    7    1    9    8  920    1    0    0]\n",
      " [   4   13   28    5    6    1    0  941    1   29]\n",
      " [  10   21   20   47    9   56   16   16  770    9]\n",
      " [  12    9    2   13   42   10    0   28    3  890]]\n"
     ]
    },
    {
     "data": {
      "image/png": "[encoded data removed]",
      "text/plain": [
       "<Figure size 432x288 with 2 Axes>"
      ]
     },
     "metadata": {
      "needs_background": "light"
     },
     "output_type": "display_data"
    }
   ],
   "source": [
    "print_confusion_matrix()"
   ]
  },
  {
   "cell_type": "markdown",
   "metadata": {},
   "source": [
    "در این مرحله کارمان با تنسورفلو تمام شده و میتوان session را بست تا منابع تخصیص یافته به آن ازاد گردند."
   ]
  },
  {
   "cell_type": "code",
   "execution_count": 47,
   "metadata": {},
   "outputs": [],
   "source": [
    "# session.close()"
   ]
  },
  {
   "cell_type": "markdown",
   "metadata": {},
   "source": [
    "## تمرین\n",
    "\n",
    "در پایین بخشی از پیشنهاداتی لیست شده‌اند که می‌توانید به عنوان تمرین بیشتر انجام دهید.\n",
    "\n",
    "بهتر از قبل از اعمال تغییرات به این فایل، از ان یک نسخه پشتیبان تهیه کنید.\n",
    "\n",
    "* مقدار نرخ یادگیری بهینه‌ساز را تغییر دهید.\n",
    "* نوع بهینه‌ساز را به `AdagradOptimizer` یا `AdamOptimizer` تغییر دهید.\n",
    "* اندازه هر دسته را از 100 به عدد دیگری مانند 1000 یا 1 تغییر دهید.\n",
    "* تغییرات فوق چه تاثیری بر کارایی مدل دارند؟\n",
    "* آیا فکر می‌کنید که اعمال تغییرات فوق تاثیر مشابهی بر مدلهای مختلف یادگیری دارند؟\n",
    "* آیا هر بار که دستورات این فایل را (بدون تغییر پارامترها) اجرا می‌کنید نتایج متفاوتی می‌گیرید یا مشابه؟ چرا،\n",
    "* تابع `plot_example_errors()` را به‌گونه‌ای تغییر دهید که `logits` و `y_pred` را نیز چاپ کند.\n",
    "* از `sparse_softmax_cross_entropy_with_logits` به جای `softmax_cross_entropy_with_logits` استفاده کنید. شاید نیاز به تغییراتی در چندین جای کد باشد. درباره مزایا و معایب هر کدام از روش‌ها بحث کنید.\n",
    "* سعی کنید کد بالا را بدون کمک گرفتن، خودتان بنویسید.\n",
    "* کد بالا را برای یکی از دوستانتان توضیح دهید."
   ]
  }
 ],
 "metadata": {
  "anaconda-cloud": {},
  "kernelspec": {
   "display_name": "Python 3",
   "language": "python",
   "name": "python3"
  },
  "language_info": {
   "codemirror_mode": {
    "name": "ipython",
    "version": 3
   },
   "file_extension": ".py",
   "mimetype": "text/x-python",
   "name": "python",
   "nbconvert_exporter": "python",
   "pygments_lexer": "ipython3",
   "version": "3.6.8"
  }
 },
 "nbformat": 4,
 "nbformat_minor": 1
}
